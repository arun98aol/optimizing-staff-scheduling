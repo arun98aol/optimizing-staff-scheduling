{
 "cells": [
  {
   "cell_type": "markdown",
   "metadata": {},
   "source": [
    "# Applied Optimization - GP2"
   ]
  },
  {
   "cell_type": "markdown",
   "metadata": {},
   "source": [
    "## PJIOWA - Staff Scheduling"
   ]
  },
  {
   "cell_type": "markdown",
   "metadata": {
    "tags": []
   },
   "source": [
    "#### Question"
   ]
  },
  {
   "cell_type": "markdown",
   "metadata": {},
   "source": [
    "General Hospital must schedule nurses so that the hospital’s patients are provided adequate\n",
    "care. At the same time, in the face of tighter competition in the health care industry, careful attention must\n",
    "be paid to keeping costs down. From historical records, administrators can project the minimum number\n",
    "of nurses to have on hand for the various times of day (note that 0 and 24 are the same time of day):\n",
    "\n",
    "A nurse can be scheduled to start at the beginning of one of the 8 time ranges just given, and he/she works for 9 consecutive hours. Each nurse works only one shift per 24-hour time period. If his/her shift starts late enough in the day, then he/she will work into the early hours of the next day. The nurse-scheduling problem seeks to schedule nurses to find the minimum total number of nurses required per day while providing adequate care.\n",
    "\n",
    "Set up the model assuming that the schedule for a single day will be repeated over and over again; this means, in particular, that nurses who start late enough in the day will be counted as covering some early hours in the next day as well.\n",
    "\n",
    "<b>Hint:</b> In formulating this problem, do not think about exactly what shifts an individual nurse will work; just think about the number of nurses who will work a given shift.\n",
    "\n",
    "| Time Range (24 hour) | Min # of Nurses Required During Time | Shift Number (i) |\n",
    "|-----------------------|-------------------------------------|--------------|\n",
    "| 0-3                   | 16                                  | 1            |\n",
    "| 3-6                   | 10                                  | 2            |\n",
    "| 6-9                   | 6                                   | 3            |\n",
    "| 9-12                  | 19                                  | 4            |\n",
    "| 12-15                 | 8                                   | 5            |\n",
    "| 15-18                 | 7                                   | 6            |\n",
    "| 18-21                 | 14                                  | 7            |\n",
    "| 21-24                 | 9                                   | 8            |\n",
    "\n",
    "\n",
    "| Time       | StartTime  | EndTime    | Min(Insider) | Min(Driver) |\n",
    "|------------|------------|------------|--------------|-------------|\n",
    "| Lunch      | 10.00 AM   | 2.00 PM    | 2            | 2           |\n",
    "| Afternoon  | 2.00 PM    | 5.00 PM    | 2            | 1           |\n",
    "| Day        | 5.00 PM    | 9.00 PM    | 3            | 3           |\n",
    "| Evening    | 9.00 PM    | 12.00 AM   | 2            | 3           |\n",
    "| LateNight  | 12.00 AM   | 2:00 AM    | 2            | 2           |\n",
    "| After      | 2:00 AM    | 3:00 AM    | 2            | 2           |\n"
   ]
  },
  {
   "cell_type": "markdown",
   "metadata": {},
   "source": [
    "#### Model Formulation"
   ]
  },
  {
   "cell_type": "markdown",
   "metadata": {},
   "source": [
    "Let $X_i$ denote the number of PJIOWA workers who start shift number $i$. <br>\n",
    "Let $Z_i$ denote the min number of staff required during shift number $i$.\n",
    "\n",
    "Objective Function: $\\min \\sum_{i=1}^{8} X_i$\n",
    "\n",
    "s.t:\n",
    "\n",
    "\\begin{align*}\n",
    "& X_i + X_{i-1} + X_{i-2} \\geq Z_i\n",
    "\\end{align*}\n",
    "\n",
    "where $i$ is the shift number,\n",
    "\\begin{align*}\n",
    "& x_{ij} \\geq 0 \\quad \\text{for all } i \\\n",
    "\\end{align*}\n",
    "for $i = 1, 2, 3, \\ldots, 8$,\n",
    "where $Z_i = [16, 10, 6, 19, 8, 7, 14, 9]$"
   ]
  },
  {
   "cell_type": "code",
   "execution_count": 1,
   "metadata": {},
   "outputs": [
    {
     "name": "stdout",
     "output_type": "stream",
     "text": [
      "Model Nurse Scheduling\n",
      "\n",
      "  Variables:\n",
      "    x : Size=8, Index=I\n",
      "        Key : Lower : Value : Upper : Fixed : Stale : Domain\n",
      "          0 :     0 :   2.0 :  None : False : False : NonNegativeReals\n",
      "          1 :     0 :  11.0 :  None : False : False : NonNegativeReals\n",
      "          2 :     0 :   1.0 :  None : False : False : NonNegativeReals\n",
      "          3 :     0 :   7.0 :  None : False : False : NonNegativeReals\n",
      "          4 :     0 :   0.0 :  None : False : False : NonNegativeReals\n",
      "          5 :     0 :   0.0 :  None : False : False : NonNegativeReals\n",
      "          6 :     0 :  14.0 :  None : False : False : NonNegativeReals\n",
      "          7 :     0 :   0.0 :  None : False : False : NonNegativeReals\n",
      "\n",
      "  Objectives:\n",
      "    obj : Size=1, Index=None, Active=True\n",
      "        Key  : Active : Value\n",
      "        None :   True :  35.0\n",
      "\n",
      "  Constraints:\n",
      "    sh : Size=8\n",
      "        Key : Lower : Body : Upper\n",
      "          0 :  16.0 : 16.0 :  None\n",
      "          1 :  10.0 : 13.0 :  None\n",
      "          2 :   6.0 : 14.0 :  None\n",
      "          3 :  19.0 : 19.0 :  None\n",
      "          4 :   8.0 :  8.0 :  None\n",
      "          5 :   7.0 :  7.0 :  None\n",
      "          6 :  14.0 : 14.0 :  None\n",
      "          7 :   9.0 : 14.0 :  None\n"
     ]
    }
   ],
   "source": [
    "# grace's 2 hour shifts\n",
    "# firstly formulate how many pjiowa staff are required to start each shift\n",
    "# solve with static shift length, maybe 8 per day, assuming a worker works 8*5 to cover 40 hours/week, working 5 days a week\n",
    "\n",
    "\n",
    "i = list(range(8)) # shift iterator\n",
    "combs = [(i[j],i[j-1],i[j-2]) for j in i] # gen different combinations to account for people starting their shift late and early\n",
    "z = [16, 10, 6, 19, 8, 7, 14, 9] # min nurses required in shift [1,8]\n",
    "n = len(i) # total no of shifts\n",
    "\n",
    "# Importing the required module(s)\n",
    "import pyomo.environ as pyo\n",
    "\n",
    "# Creating a Pyomo model object\n",
    "ns = pyo.ConcreteModel(\"Nurse Scheduling\")\n",
    "\n",
    "# Let I be the set of items indexed from 0 to n-1. Note that both bounds in RangeSet are inclusive.\n",
    "ns.I = pyo.RangeSet(0, n-1)\n",
    "\n",
    "# Declaring the decision variables (x_i). Note that x_i belongs to the [0,1] interval\n",
    "ns.x = pyo.Var(ns.I, within=pyo.NonNegativeReals, name=\"#Nurses starting Shift\")\n",
    "# ns.x = pyo.Set(ns.I, within=pyo.NonNegativeReals)\n",
    "\n",
    "# Declaring the objective function:\n",
    "ns.obj = pyo.Objective(expr = sum([ns.x[i] for i in ns.I]), name=\"DailyReqNurses\")\n",
    "\n",
    "# Declaring the constraints (tried manual the first time)\n",
    "# ns.sh1 = pyo.Constraint(expr = (ns.x[0]+ns.x[7]+ns.x[6]) >= z[0], name = \"shift1\")\n",
    "# ns.sh2 = pyo.Constraint(expr = (ns.x[1]+ns.x[0]+ns.x[7]) >= z[1], name = \"shift2\")\n",
    "# ns.sh3 = pyo.Constraint(expr = (ns.x[2]+ns.x[1]+ns.x[0]) >= z[2], name = \"shift3\")\n",
    "# ns.sh4 = pyo.Constraint(expr = (ns.x[3]+ns.x[2]+ns.x[1]) >= z[3], name = \"shift4\")\n",
    "# ns.sh5 = pyo.Constraint(expr = (ns.x[4]+ns.x[3]+ns.x[2]) >= z[4], name = \"shift5\")\n",
    "# ns.sh6 = pyo.Constraint(expr = (ns.x[5]+ns.x[4]+ns.x[3]) >= z[5], name = \"shift6\")\n",
    "# ns.sh7 = pyo.Constraint(expr = (ns.x[6]+ns.x[5]+ns.x[4]) >= z[6], name = \"shift7\")\n",
    "# ns.sh8 = pyo.Constraint(expr = (ns.x[7]+ns.x[6]+ns.x[5]) >= z[7], name = \"shift8\")\n",
    "\n",
    "# Trying out an indexed approach\n",
    "def comb_sum(model, j):\n",
    "    # print(j, flush=True)\n",
    "    for k in combs:\n",
    "        if k[0] == j:\n",
    "            # print('returned', ns.x[k[0]] + ns.x[k[1]] + ns.x[k[2]] >= z[j])\n",
    "            return ns.x[k[0]] + ns.x[k[1]] + ns.x[k[2]] >= z[j]\n",
    "        else:\n",
    "            # print('n/a')\n",
    "            continue\n",
    "# calling he indexed constraint function\n",
    "ns.sh = pyo.Constraint(ns.I, rule=comb_sum)\n",
    "\n",
    "# Solving using pyomo - glpk\n",
    "opt = pyo.SolverFactory('glpk')\n",
    "res = opt.solve(ns) \n",
    "ns.display()"
   ]
  },
  {
   "cell_type": "code",
   "execution_count": 2,
   "metadata": {},
   "outputs": [
    {
     "data": {
      "image/png": "[encoded data removed]",
      "text/plain": [
       "<Figure size 500x400 with 1 Axes>"
      ]
     },
     "metadata": {},
     "output_type": "display_data"
    }
   ],
   "source": [
    "import pandas as pd\n",
    "import matplotlib.pyplot as plt\n",
    "\n",
    "ns_output = pd.DataFrame()\n",
    "ns_output['Shift No.'] = ns.x.get_values().keys()\n",
    "ns_output['Nurses Starting'] = [int(z) for z in ns.x.get_values().values()]\n",
    "ns_output.set_index('Shift No.', inplace=True)\n",
    "ns_output#.plot(kind='bar')\n",
    "\n",
    "plt.figure(figsize=(5, 4))\n",
    "plt.bar(ns_output.index, ns_output['Nurses Starting'], color='skyblue')\n",
    "plt.xlabel('Shift No.')\n",
    "plt.ylabel('Nurses Starting')\n",
    "plt.title('Optimal Number of Nurses for Each Shift')\n",
    "plt.xticks(range(len(ns_output)+1))\n",
    "plt.yticks(range(ns_output['Nurses Starting'].max()+1))\n",
    "plt.grid(axis='y', linestyle='--', alpha=0.7)\n",
    "\n",
    "# Show the plot\n",
    "plt.tight_layout()\n",
    "plt.show()"
   ]
  },
  {
   "cell_type": "code",
   "execution_count": null,
   "metadata": {},
   "outputs": [],
   "source": []
  }
 ],
 "metadata": {
  "kernelspec": {
   "display_name": "Python 3 (ipykernel)",
   "language": "python",
   "name": "python3"
  },
  "language_info": {
   "codemirror_mode": {
    "name": "ipython",
    "version": 3
   },
   "file_extension": ".py",
   "mimetype": "text/x-python",
   "name": "python",
   "nbconvert_exporter": "python",
   "pygments_lexer": "ipython3",
   "version": "3.11.6"
  }
 },
 "nbformat": 4,
 "nbformat_minor": 4
}
